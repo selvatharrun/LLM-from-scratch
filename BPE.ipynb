{
 "cells": [
  {
   "cell_type": "code",
   "execution_count": 1,
   "id": "3fb3c9b6",
   "metadata": {},
   "outputs": [
    {
     "name": "stdout",
     "output_type": "stream",
     "text": [
      "Collecting tiktoken\n",
      "  Downloading tiktoken-0.9.0-cp311-cp311-win_amd64.whl.metadata (6.8 kB)\n",
      "Collecting regex>=2022.1.18 (from tiktoken)\n",
      "  Downloading regex-2024.11.6-cp311-cp311-win_amd64.whl.metadata (41 kB)\n",
      "Collecting requests>=2.26.0 (from tiktoken)\n",
      "  Downloading requests-2.32.4-py3-none-any.whl.metadata (4.9 kB)\n",
      "Collecting charset_normalizer<4,>=2 (from requests>=2.26.0->tiktoken)\n",
      "  Downloading charset_normalizer-3.4.2-cp311-cp311-win_amd64.whl.metadata (36 kB)\n",
      "Collecting idna<4,>=2.5 (from requests>=2.26.0->tiktoken)\n",
      "  Downloading idna-3.10-py3-none-any.whl.metadata (10 kB)\n",
      "Collecting urllib3<3,>=1.21.1 (from requests>=2.26.0->tiktoken)\n",
      "  Downloading urllib3-2.4.0-py3-none-any.whl.metadata (6.5 kB)\n",
      "Collecting certifi>=2017.4.17 (from requests>=2.26.0->tiktoken)\n",
      "  Downloading certifi-2025.4.26-py3-none-any.whl.metadata (2.5 kB)\n",
      "Downloading tiktoken-0.9.0-cp311-cp311-win_amd64.whl (893 kB)\n",
      "   ---------------------------------------- 0.0/893.9 kB ? eta -:--:--\n",
      "   ---------------------------------------- 0.0/893.9 kB ? eta -:--:--\n",
      "   ----------------------- ---------------- 524.3/893.9 kB 2.8 MB/s eta 0:00:01\n",
      "   ---------------------------------------- 893.9/893.9 kB 2.1 MB/s eta 0:00:00\n",
      "Downloading regex-2024.11.6-cp311-cp311-win_amd64.whl (274 kB)\n",
      "Downloading requests-2.32.4-py3-none-any.whl (64 kB)\n",
      "Downloading charset_normalizer-3.4.2-cp311-cp311-win_amd64.whl (105 kB)\n",
      "Downloading idna-3.10-py3-none-any.whl (70 kB)\n",
      "Downloading urllib3-2.4.0-py3-none-any.whl (128 kB)\n",
      "Downloading certifi-2025.4.26-py3-none-any.whl (159 kB)\n",
      "Installing collected packages: urllib3, regex, idna, charset_normalizer, certifi, requests, tiktoken\n",
      "\n",
      "   ---------------------------------------- 0/7 [urllib3]\n",
      "   ---------------------------------------- 0/7 [urllib3]\n",
      "   ---------------------------------------- 0/7 [urllib3]\n",
      "   ---------------------------------------- 0/7 [urllib3]\n",
      "   ---------------------------------------- 0/7 [urllib3]\n",
      "   ---------------------------------------- 0/7 [urllib3]\n",
      "   ---------------------------------------- 0/7 [urllib3]\n",
      "   ---------------------------------------- 0/7 [urllib3]\n",
      "   ---------------------------------------- 0/7 [urllib3]\n",
      "   ----- ---------------------------------- 1/7 [regex]\n",
      "   ----- ---------------------------------- 1/7 [regex]\n",
      "   ----------- ---------------------------- 2/7 [idna]\n",
      "   ----------- ---------------------------- 2/7 [idna]\n",
      "   ----------------- ---------------------- 3/7 [charset_normalizer]\n",
      "   ----------------- ---------------------- 3/7 [charset_normalizer]\n",
      "   ----------------- ---------------------- 3/7 [charset_normalizer]\n",
      "   ----------------- ---------------------- 3/7 [charset_normalizer]\n",
      "   ---------------------- ----------------- 4/7 [certifi]\n",
      "   ---------------------------- ----------- 5/7 [requests]\n",
      "   ---------------------------- ----------- 5/7 [requests]\n",
      "   ---------------------------- ----------- 5/7 [requests]\n",
      "   ---------------------------- ----------- 5/7 [requests]\n",
      "   ---------------------------------- ----- 6/7 [tiktoken]\n",
      "   ---------------------------------- ----- 6/7 [tiktoken]\n",
      "   ---------------------------------------- 7/7 [tiktoken]\n",
      "\n",
      "Successfully installed certifi-2025.4.26 charset_normalizer-3.4.2 idna-3.10 regex-2024.11.6 requests-2.32.4 tiktoken-0.9.0 urllib3-2.4.0\n",
      "Note: you may need to restart the kernel to use updated packages.\n"
     ]
    }
   ],
   "source": [
    "pip install tiktoken"
   ]
  },
  {
   "cell_type": "code",
   "execution_count": 3,
   "id": "20a01efb",
   "metadata": {},
   "outputs": [],
   "source": [
    "import importlib\n",
    "import tiktoken\n",
    "\n",
    "tokenizer = tiktoken.get_encoding(\"gpt2\");\n"
   ]
  },
  {
   "cell_type": "code",
   "execution_count": 5,
   "id": "f031b866",
   "metadata": {},
   "outputs": [
    {
     "name": "stdout",
     "output_type": "stream",
     "text": [
      "[15496, 11, 995, 0, 770, 318, 257, 1332, 220, 50256, 4731, 284, 954, 16326, 13, 42773, 428, 318, 257, 649, 6827, 13]\n"
     ]
    }
   ],
   "source": [
    "text =(\"Hello, world! This is a test <|endoftext|> string to count tokens.\"\n",
    "        \"wow this is a new sentence.\")\n",
    "\n",
    "integers  = tokenizer.encode(text, allowed_special={\"<|endoftext|>\"})\n",
    "print(integers)\n"
   ]
  },
  {
   "cell_type": "code",
   "execution_count": 7,
   "id": "92c5caa5",
   "metadata": {},
   "outputs": [
    {
     "name": "stdout",
     "output_type": "stream",
     "text": [
      "Hello, world! This is a test <|endoftext|> string to count tokens.wow this is a new sentence.\n"
     ]
    }
   ],
   "source": [
    "strings  = tokenizer.decode(integers)\n",
    "print(strings)\n"
   ]
  },
  {
   "cell_type": "markdown",
   "id": "e42bef1b",
   "metadata": {},
   "source": [
    "BPE handles, unknown vocab words, OOV(out of vocab) error by splitting the words further down, into tinier subwords or even individual characters."
   ]
  }
 ],
 "metadata": {
  "kernelspec": {
   "display_name": ".venv",
   "language": "python",
   "name": "python3"
  },
  "language_info": {
   "codemirror_mode": {
    "name": "ipython",
    "version": 3
   },
   "file_extension": ".py",
   "mimetype": "text/x-python",
   "name": "python",
   "nbconvert_exporter": "python",
   "pygments_lexer": "ipython3",
   "version": "3.11.4"
  }
 },
 "nbformat": 4,
 "nbformat_minor": 5
}
