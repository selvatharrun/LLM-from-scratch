{
 "cells": [
  {
   "cell_type": "code",
   "execution_count": 1,
   "id": "d0281ad9",
   "metadata": {},
   "outputs": [],
   "source": [
    "import cv2\n",
    "from PIL import Image, ImageEnhance, ImageFilter\n",
    "import numpy as np\n",
    "\n",
    "def flex_image_properties(image_path):\n",
    "    # Load image with OpenCV\n",
    "    cv_img = cv2.imread(image_path)\n",
    "    cv_img = cv2.cvtColor(cv_img, cv2.COLOR_BGR2RGB)\n",
    "\n",
    "    # Flex OpenCV properties\n",
    "    # 1. Resize\n",
    "    resized = cv2.resize(cv_img, (cv_img.shape[1]//2, cv_img.shape[0]//2))\n",
    "    # 2. Rotate\n",
    "    center = (resized.shape[1]//2, resized.shape[0]//2)\n",
    "    rot_mat = cv2.getRotationMatrix2D(center, 45, 1.0)\n",
    "    rotated = cv2.warpAffine(resized, rot_mat, (resized.shape[1], resized.shape[0]))\n",
    "    # 3. Blur\n",
    "    blurred = cv2.GaussianBlur(rotated, (7, 7), 0)\n",
    "    # 4. Change brightness\n",
    "    bright = cv2.convertScaleAbs(blurred, alpha=1.2, beta=30)\n",
    "\n",
    "    # Convert to PIL Image\n",
    "    pil_img = Image.fromarray(bright)\n",
    "\n",
    "    # Flex Pillow properties\n",
    "    # 1. Enhance color\n",
    "    enhancer = ImageEnhance.Color(pil_img)\n",
    "    pil_img = enhancer.enhance(2.0)\n",
    "    # 2. Enhance contrast\n",
    "    enhancer = ImageEnhance.Contrast(pil_img)\n",
    "    pil_img = enhancer.enhance(1.5)\n",
    "    # 3. Enhance sharpness\n",
    "    enhancer = ImageEnhance.Sharpness(pil_img)\n",
    "    pil_img = enhancer.enhance(2.0)\n",
    "    # 4. Apply filter\n",
    "    pil_img = pil_img.filter(ImageFilter.EMBOSS)\n",
    "\n",
    "    return pil_img\n"
   ]
  },
  {
   "cell_type": "code",
   "execution_count": 6,
   "id": "553c4008",
   "metadata": {},
   "outputs": [],
   "source": [
    "result_img = flex_image_properties('C:\\\\Users\\\\user\\\\OneDrive\\\\Documents\\\\LLM-from-scratch\\\\SRET\\\\computerVISION\\\\zjN7W3mhXjZNtCFZb4Y1PAfOK_adVx5lXhKNC7vLYcg=.png')\n",
    "result_img.show()"
   ]
  }
 ],
 "metadata": {
  "kernelspec": {
   "display_name": ".venv",
   "language": "python",
   "name": "python3"
  },
  "language_info": {
   "codemirror_mode": {
    "name": "ipython",
    "version": 3
   },
   "file_extension": ".py",
   "mimetype": "text/x-python",
   "name": "python",
   "nbconvert_exporter": "python",
   "pygments_lexer": "ipython3",
   "version": "3.13.5"
  }
 },
 "nbformat": 4,
 "nbformat_minor": 5
}
