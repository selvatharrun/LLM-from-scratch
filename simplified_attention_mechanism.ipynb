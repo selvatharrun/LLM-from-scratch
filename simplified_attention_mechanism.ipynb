{
 "cells": [
  {
   "cell_type": "code",
   "execution_count": 57,
   "id": "93650fee",
   "metadata": {},
   "outputs": [],
   "source": [
    "import torch\n",
    "inputs = torch.tensor(\n",
    "    [[0.43, 0.15, 0.89],  # your\n",
    "     [0.55, 0.87, 0.66],  # journey \n",
    "     [0.32, 0.75, 0.48],  # starts\n",
    "     [0.91, 0.27, 0.63],  # with\n",
    "     [0.18, 0.59, 0.72],  # one\n",
    "     [0.37, 0.82, 0.53]]  # step\n",
    ")"
   ]
  },
  {
   "cell_type": "code",
   "execution_count": 58,
   "id": "d2a9a186",
   "metadata": {},
   "outputs": [
    {
     "data": {
      "text/plain": [
       "tensor([0.9544, 1.4950, 1.1453, 1.1512, 1.0875, 1.2667])"
      ]
     },
     "execution_count": 58,
     "metadata": {},
     "output_type": "execute_result"
    }
   ],
   "source": [
    "query  = inputs[1]; #we are looking just at journey\n",
    "\n",
    "attn_scores = torch.empty(inputs.shape[0]) #will make a vector filled with garbage values, and dimensions of inputs which is 3.\n",
    "\n",
    "for i,x_i in enumerate(inputs): # i is the index, and xi are all the input tokens. \n",
    "    attn_scores[i] = torch.dot(query, x_i)\n",
    "\n",
    "attn_scores"
   ]
  },
  {
   "cell_type": "code",
   "execution_count": 59,
   "id": "8ffb9620",
   "metadata": {},
   "outputs": [
    {
     "name": "stdout",
     "output_type": "stream",
     "text": [
      "tensor(1.0000)\n"
     ]
    }
   ],
   "source": [
    "new_attn_scores = torch.softmax(attn_scores, dim=0) #softmax to normalize the attention scores\n",
    "new_attn_scores\n",
    "print(new_attn_scores.sum()) #should be 1.0\n"
   ]
  },
  {
   "cell_type": "code",
   "execution_count": 60,
   "id": "3963c55a",
   "metadata": {},
   "outputs": [
    {
     "name": "stdout",
     "output_type": "stream",
     "text": [
      "tensor([0.1307, 0.2243, 0.1581, 0.1591, 0.1493, 0.1785])\n"
     ]
    }
   ],
   "source": [
    "print(new_attn_scores)"
   ]
  },
  {
   "cell_type": "code",
   "execution_count": 63,
   "id": "9b2d8d0d",
   "metadata": {},
   "outputs": [],
   "source": [
    "query = inputs[1]  # we are looking just at 'journey'\n",
    "newtensor = torch.zeros(query.shape)\n",
    "\n",
    "for i,x_i in enumerate(inputs):  # iterate over the transposed inputs\n",
    "    newtensor += new_attn_scores[i] * x_i  # multiply each column by the corresponding attention score"
   ]
  },
  {
   "cell_type": "code",
   "execution_count": 64,
   "id": "83d8d987",
   "metadata": {},
   "outputs": [
    {
     "data": {
      "text/plain": [
       "tensor([0.4679, 0.6108, 0.6426])"
      ]
     },
     "execution_count": 64,
     "metadata": {},
     "output_type": "execute_result"
    }
   ],
   "source": [
    "\n",
    "newtensor"
   ]
  }
 ],
 "metadata": {
  "kernelspec": {
   "display_name": ".venv",
   "language": "python",
   "name": "python3"
  },
  "language_info": {
   "codemirror_mode": {
    "name": "ipython",
    "version": 3
   },
   "file_extension": ".py",
   "mimetype": "text/x-python",
   "name": "python",
   "nbconvert_exporter": "python",
   "pygments_lexer": "ipython3",
   "version": "3.11.4"
  }
 },
 "nbformat": 4,
 "nbformat_minor": 5
}
