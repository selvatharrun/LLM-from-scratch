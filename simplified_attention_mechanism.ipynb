{
 "cells": [
  {
   "cell_type": "code",
   "execution_count": 1,
   "id": "93650fee",
   "metadata": {},
   "outputs": [],
   "source": [
    "import torch\n",
    "inputs = torch.tensor(\n",
    "    [[0.43, 0.15, 0.89],  # your\n",
    "     [0.55, 0.87, 0.66],  # journey \n",
    "     [0.32, 0.75, 0.48],  # starts\n",
    "     [0.91, 0.27, 0.63],  # with\n",
    "     [0.18, 0.59, 0.72],  # one\n",
    "     [0.37, 0.82, 0.53]]  # step\n",
    ")"
   ]
  },
  {
   "cell_type": "code",
   "execution_count": 2,
   "id": "d2a9a186",
   "metadata": {},
   "outputs": [
    {
     "data": {
      "text/plain": [
       "tensor([0.9544, 1.4950, 1.1453, 1.1512, 1.0875, 1.2667])"
      ]
     },
     "execution_count": 2,
     "metadata": {},
     "output_type": "execute_result"
    }
   ],
   "source": [
    "query  = inputs[1]; #we are looking just at journey\n",
    "\n",
    "attn_scores = torch.empty(inputs.shape[0]) #will make a vector filled with garbage values, and dimensions of inputs which is 3.\n",
    "\n",
    "for i,x_i in enumerate(inputs): # i is the index, and xi are all the input tokens. \n",
    "    attn_scores[i] = torch.dot(query, x_i)\n",
    "\n",
    "attn_scores"
   ]
  },
  {
   "cell_type": "code",
   "execution_count": 3,
   "id": "8ffb9620",
   "metadata": {},
   "outputs": [
    {
     "name": "stdout",
     "output_type": "stream",
     "text": [
      "tensor(1.0000)\n"
     ]
    }
   ],
   "source": [
    "new_attn_scores = torch.softmax(attn_scores, dim=0) #softmax to normalize the attention scores\n",
    "new_attn_scores\n",
    "print(new_attn_scores.sum()) #should be 1.0\n"
   ]
  },
  {
   "cell_type": "code",
   "execution_count": 4,
   "id": "3963c55a",
   "metadata": {},
   "outputs": [
    {
     "name": "stdout",
     "output_type": "stream",
     "text": [
      "tensor([0.1307, 0.2243, 0.1581, 0.1591, 0.1493, 0.1785])\n"
     ]
    }
   ],
   "source": [
    "print(new_attn_scores)"
   ]
  },
  {
   "cell_type": "code",
   "execution_count": 5,
   "id": "9b2d8d0d",
   "metadata": {},
   "outputs": [],
   "source": [
    "query = inputs[1]  # we are looking just at 'journey'\n",
    "newtensor = torch.zeros(query.shape)\n",
    "\n",
    "for i,x_i in enumerate(inputs):  # iterate over the transposed inputs\n",
    "    newtensor += new_attn_scores[i] * x_i  # multiply each column by the corresponding attention score"
   ]
  },
  {
   "cell_type": "code",
   "execution_count": 6,
   "id": "83d8d987",
   "metadata": {},
   "outputs": [
    {
     "data": {
      "text/plain": [
       "tensor([0.4679, 0.6108, 0.6426])"
      ]
     },
     "execution_count": 6,
     "metadata": {},
     "output_type": "execute_result"
    }
   ],
   "source": [
    "newtensor"
   ]
  },
  {
   "cell_type": "code",
   "execution_count": 7,
   "id": "c8c99f2a",
   "metadata": {},
   "outputs": [
    {
     "data": {
      "text/plain": [
       "'\\nactual_attn_scores = torch.empty(6,6)  # will make a vector filled with garbage values, and dimensions of inputs which is 3.\\n\\nfor i,x_i in enumerate(inputs):\\n    for(j, x_j) in enumerate(inputs):\\n        actual_attn_scores[i,j] = torch.dot(x_i, x_j)  # calculate the dot product between each pair of input tokens\\n\\n'"
      ]
     },
     "execution_count": 7,
     "metadata": {},
     "output_type": "execute_result"
    }
   ],
   "source": [
    "'''\n",
    "actual_attn_scores = torch.empty(6,6)  # will make a vector filled with garbage values, and dimensions of inputs which is 3.\n",
    "\n",
    "for i,x_i in enumerate(inputs):\n",
    "    for(j, x_j) in enumerate(inputs):\n",
    "        actual_attn_scores[i,j] = torch.dot(x_i, x_j)  # calculate the dot product between each pair of input tokens\n",
    "\n",
    "'''     "
   ]
  },
  {
   "cell_type": "code",
   "execution_count": null,
   "id": "ce53725e",
   "metadata": {},
   "outputs": [
    {
     "data": {
      "text/plain": [
       "tensor([[0.1894, 0.1810, 0.1372, 0.1881, 0.1562, 0.1481],\n",
       "        [0.1307, 0.2243, 0.1581, 0.1591, 0.1493, 0.1785],\n",
       "        [0.1331, 0.2125, 0.1655, 0.1499, 0.1575, 0.1815],\n",
       "        [0.1650, 0.1934, 0.1356, 0.2239, 0.1330, 0.1492],\n",
       "        [0.1523, 0.2017, 0.1584, 0.1478, 0.1670, 0.1727],\n",
       "        [0.1303, 0.2176, 0.1646, 0.1496, 0.1557, 0.1824]])"
      ]
     },
     "execution_count": 16,
     "metadata": {},
     "output_type": "execute_result"
    }
   ],
   "source": [
    "#for loops are slower so we use, transpose and matrix multiplication.\n",
    "\n",
    "actual_attn_scores = inputs @ inputs.T  # matrix multiplication to get the attention scores for all pairs of tokens\n",
    "actual_attn_scores = torch.softmax(actual_attn_scores, dim=-1)  # apply dim=-1 we are normalizing on the column, so when u add all the values of the column it results in 1.\n",
    "actual_attn_scores"
   ]
  },
  {
   "cell_type": "code",
   "execution_count": 17,
   "id": "4762a85a",
   "metadata": {},
   "outputs": [
    {
     "name": "stdout",
     "output_type": "stream",
     "text": [
      "tensor(1.)\n"
     ]
    }
   ],
   "source": [
    "print(sum(actual_attn_scores[3]))  # should be 1.0 for the 'journey' row"
   ]
  }
 ],
 "metadata": {
  "kernelspec": {
   "display_name": ".venv",
   "language": "python",
   "name": "python3"
  },
  "language_info": {
   "codemirror_mode": {
    "name": "ipython",
    "version": 3
   },
   "file_extension": ".py",
   "mimetype": "text/x-python",
   "name": "python",
   "nbconvert_exporter": "python",
   "pygments_lexer": "ipython3",
   "version": "3.11.4"
  }
 },
 "nbformat": 4,
 "nbformat_minor": 5
}
