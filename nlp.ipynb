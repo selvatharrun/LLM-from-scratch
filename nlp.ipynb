{
 "cells": [
  {
   "cell_type": "code",
   "execution_count": null,
   "id": "a839bb9a",
   "metadata": {},
   "outputs": [],
   "source": [
    "import spacy\n",
    "import spacy.cli\n",
    "spacy.cli.download(\"en_core_web_sm\")\n",
    "nlp = spacy.load(\"en_core_web_sm\")\n"
   ]
  },
  {
   "cell_type": "code",
   "execution_count": 1,
   "id": "2a8e9c51",
   "metadata": {},
   "outputs": [
    {
     "name": "stdout",
     "output_type": "stream",
     "text": [
      "Your journey starts with one step.\n",
      "Your - poss - journey\n",
      "journey - nsubj - starts\n",
      "starts - ROOT - starts\n",
      "with - prep - starts\n",
      "one - nummod - step\n",
      "step - pobj - with\n",
      ". - punct - starts\n",
      "\n",
      "\n",
      "but i dont like you.\n",
      "but - cc - like\n",
      "i - nsubj - like\n",
      "do - aux - like\n",
      "nt - neg - like\n",
      "like - ROOT - like\n",
      "you - dobj - like\n",
      ". - punct - like\n",
      "\n",
      "\n",
      "wow wow amazing.\n",
      "wow - intj - amazing\n",
      "wow - intj - amazing\n",
      "amazing - ROOT - amazing\n",
      ". - punct - amazing\n",
      "\n",
      "\n"
     ]
    }
   ],
   "source": [
    "import spacy\n",
    "nlp = spacy.load(\"en_core_web_sm\")\n",
    "\n",
    "f = nlp(\"Your journey starts with one step. but i dont like you. wow wow amazing.\")\n",
    "\n",
    "for sent in f.sents:\n",
    "    print(sent.text)\n",
    "    for token in sent:\n",
    "        print(f\"{token.text} - {token.dep_} - {token.head.text}\")\n",
    "    print(\"\\n\")"
   ]
  },
  {
   "cell_type": "code",
   "execution_count": null,
   "id": "47871c2c",
   "metadata": {},
   "outputs": [],
   "source": []
  }
 ],
 "metadata": {
  "kernelspec": {
   "display_name": ".venv",
   "language": "python",
   "name": "python3"
  },
  "language_info": {
   "codemirror_mode": {
    "name": "ipython",
    "version": 3
   },
   "file_extension": ".py",
   "mimetype": "text/x-python",
   "name": "python",
   "nbconvert_exporter": "python",
   "pygments_lexer": "ipython3",
   "version": "3.11.4"
  }
 },
 "nbformat": 4,
 "nbformat_minor": 5
}
